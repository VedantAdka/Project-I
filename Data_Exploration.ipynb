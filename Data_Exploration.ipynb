{
 "cells": [
  {
   "attachments": {},
   "cell_type": "markdown",
   "metadata": {},
   "source": [
    "## Data Exploration"
   ]
  },
  {
   "cell_type": "markdown",
   "metadata": {
    "jp-MarkdownHeadingCollapsed": true
   },
   "source": [
    "### IMPORTS"
   ]
  },
  {
   "cell_type": "code",
   "execution_count": 1,
   "metadata": {},
   "outputs": [],
   "source": [
    "import pandas as pd\n",
    "import os\n",
    "import glob\n",
    "import numpy as np\n",
    "import matplotlib.pyplot as plt\n",
    "from sklearn.utils import shuffle\n",
    "from sklearn.model_selection import train_test_split\n",
    "import keras"
   ]
  },
  {
   "cell_type": "code",
   "execution_count": 2,
   "metadata": {},
   "outputs": [
    {
     "data": {
      "text/plain": [
       "'C:\\\\Users\\\\chava\\\\Desktop\\\\MLRobotics\\\\PROJECT1'"
      ]
     },
     "execution_count": 2,
     "metadata": {},
     "output_type": "execute_result"
    }
   ],
   "source": [
    "os.getcwd()"
   ]
  },
  {
   "cell_type": "code",
   "execution_count": 72,
   "metadata": {
    "collapsed": false,
    "jupyter": {
     "outputs_hidden": false
    },
    "pycharm": {
     "is_executing": false,
     "name": "#%%\n"
    }
   },
   "outputs": [],
   "source": [
    "##  VARIABLES\n",
    "## FILES\n",
    "INPUT_FOLDER = 'input'\n",
    "IMAGES_ACESS = 'images/*.jpg'\n",
    "INFO_PATIENTS = 'HAM10000_metadata.csv'\n",
    "PIXEL_28_RGB_CSV = 'hmnist_28_28_RGB.csv'\n",
    "\n",
    "#data COLUMNS\n",
    "LESION_ID = 'lesion_id'\n",
    "IMAGE_ID = 'image_id'\n",
    "DX = 'dx'\n",
    "DX_TYPE = 'dx_type'\n",
    "AGE = 'age'\n",
    "SEX = 'sex'\n",
    "LOCALIZATION = 'localization'\n",
    "PATH = 'path'\n",
    "\n",
    "#OTHER VARIABLES\n",
    "MALE = 'male'\n",
    "FEMALE = 'female'\n",
    "UNKNOWN = 'unknown'\n",
    "SCALP = 'scalp'\n",
    "EAR = 'ear'\n",
    "FACE = 'face'\n",
    "BACK = 'back'\n",
    "TRUNK = 'trunk'\n",
    "CHEST = 'chest'\n",
    "UPPER_EXTREMEMITY = 'upper_extremity'\n",
    "ABDOMEN = 'abdomen'\n",
    "LOWER_EXTREMITY = 'lower_extremity'\n",
    "GENITAL = 'genital'\n",
    "NECK = 'neck'\n",
    "HAND = 'hand'\n",
    "FOOT = 'foot'\n",
    "ACRAL = 'acral'\n",
    "BKL = 'bkl'\n",
    "NV = 'nv'\n",
    "DF = 'df'\n",
    "MEL = 'mel'\n",
    "VASC = 'vasc'\n",
    "BCC = 'bcc'\n",
    "AKIEC = 'akiec'\n",
    "DICT_TARGETS = (\n",
    "    'akiec' ,\n",
    "    'bcc' ,\n",
    "    'bkl' ,\n",
    "    'df' ,\n",
    "    'mel' ,\n",
    "    'nv',\n",
    "    'vasc'\n",
    ")\n",
    "\n",
    "WIDTH = 128\n",
    "HEIGHT = 128\n",
    "CHANNELS = 3\n",
    "\n",
    "VALIDATION_SPLIT = 0.15 # 15%\n",
    "TEST_SPLIT = 0.2353 # 20%\n",
    "RANDOM_STATE = 0\n",
    "\n",
    "STANDARDIZE_AXIS_CHANNELS = (0,1,2)\n",
    "NUMBER_CLASSES = 7\n",
    "\n",
    "class_sampling2={\n",
    "    0: 213,  # akiec\n",
    "    1: 334,  # bcc\n",
    "    2: 714,  # bkl\n",
    "    3: 75,  # df\n",
    "    4: 723,  # mel # Try to make the model more sensitive to Melanoma.\n",
    "    5: 500,  # nv\n",
    "    6: 92,  # vasc\n",
    "}\n",
    "\n",
    "class_sampling={ # oversampling\n",
    "    0: 2179, # akiec\n",
    "    1: 2179, # bcc\n",
    "    2: 2179, # bkl\n",
    "    3: 2179, # df\n",
    "    4: 2179, # mel # Try to make the model more sensitive to Melanoma.\n",
    "    5: 4358, # nv\n",
    "    6: 2179, # vasc\n",
    "}\n",
    "\n",
    "HORIZONTAL_FLIP = True\n",
    "VERTICAL_FLIP = True\n",
    "WIDTH_SHIFT_RANGE = 0.1\n",
    "HEIGHT_SHIFT_RANGE = 0.1\n",
    "ROTATION_RANGE = 10\n",
    "ZOOM_RANGE = 0.25\n",
    "BRITNESS_RANGE= 0.3"
   ]
  },
  {
   "cell_type": "code",
   "execution_count": 4,
   "metadata": {
    "collapsed": false,
    "jupyter": {
     "outputs_hidden": false
    },
    "pycharm": {
     "is_executing": false,
     "name": "#%%\n"
    }
   },
   "outputs": [
    {
     "name": "stdout",
     "output_type": "stream",
     "text": [
      "C:\\Users\\chava\\Desktop\\MLRobotics\\PROJECT1\n",
      "C:\\Users\\chava\\Desktop\\MLRobotics\\PROJECT1\\input\n",
      "C:\\Users\\chava\\Desktop\\MLRobotics\\PROJECT1\\input\\HAM10000_metadata.csv\n"
     ]
    }
   ],
   "source": [
    "## IMPORTANT PATH FOLDERS, THAT AGGREGATES DATASET INFORMATION\n",
    "ROOT_DIR = os.getcwd()\n",
    "print(ROOT_DIR)\n",
    "INPUT_DIR = os.path.join(ROOT_DIR, INPUT_FOLDER)\n",
    "print(INPUT_DIR)\n",
    "PATIENTS_INFO = os.path.join(INPUT_DIR,INFO_PATIENTS)\n",
    "print(PATIENTS_INFO)\n"
   ]
  },
  {
   "cell_type": "code",
   "execution_count": 5,
   "metadata": {},
   "outputs": [],
   "source": [
    "def getImages(directory):\n",
    "\n",
    "    '''\n",
    "    THIS FUNTION RETRIEVES ALL IMAGES FILES\n",
    "    :param directory: str --> dict/*.jpg\n",
    "    :return: list of all jpg files\n",
    "    '''\n",
    "\n",
    "    try:\n",
    "\n",
    "        return sorted(glob.glob(directory))\n",
    "\n",
    "    except:\n",
    "        raise"
   ]
  },
  {
   "cell_type": "code",
   "execution_count": 6,
   "metadata": {
    "collapsed": false,
    "jupyter": {
     "outputs_hidden": false
    },
    "pycharm": {
     "is_executing": false,
     "name": "#%%\n"
    }
   },
   "outputs": [
    {
     "data": {
      "text/plain": [
       "10015"
      ]
     },
     "execution_count": 6,
     "metadata": {},
     "output_type": "execute_result"
    }
   ],
   "source": [
    "## GET PATHS FOR ALL IMAGES\n",
    "IMAGES_REGEX = os.path.join(INPUT_DIR, IMAGES_ACESS)\n",
    "images_paths = getImages(IMAGES_REGEX)\n",
    "images_paths[0]\n",
    "len(images_paths)"
   ]
  },
  {
   "cell_type": "code",
   "execution_count": 7,
   "metadata": {
    "collapsed": false,
    "jupyter": {
     "outputs_hidden": false
    },
    "pycharm": {
     "is_executing": false,
     "name": "#%%\n"
    }
   },
   "outputs": [
    {
     "data": {
      "text/html": [
       "<div>\n",
       "<style scoped>\n",
       "    .dataframe tbody tr th:only-of-type {\n",
       "        vertical-align: middle;\n",
       "    }\n",
       "\n",
       "    .dataframe tbody tr th {\n",
       "        vertical-align: top;\n",
       "    }\n",
       "\n",
       "    .dataframe thead th {\n",
       "        text-align: right;\n",
       "    }\n",
       "</style>\n",
       "<table border=\"1\" class=\"dataframe\">\n",
       "  <thead>\n",
       "    <tr style=\"text-align: right;\">\n",
       "      <th></th>\n",
       "      <th>lesion_id</th>\n",
       "      <th>image_id</th>\n",
       "      <th>dx</th>\n",
       "      <th>dx_type</th>\n",
       "      <th>age</th>\n",
       "      <th>sex</th>\n",
       "      <th>localization</th>\n",
       "    </tr>\n",
       "  </thead>\n",
       "  <tbody>\n",
       "    <tr>\n",
       "      <th>0</th>\n",
       "      <td>HAM_0000118</td>\n",
       "      <td>ISIC_0027419</td>\n",
       "      <td>bkl</td>\n",
       "      <td>histo</td>\n",
       "      <td>80.0</td>\n",
       "      <td>male</td>\n",
       "      <td>scalp</td>\n",
       "    </tr>\n",
       "    <tr>\n",
       "      <th>1</th>\n",
       "      <td>HAM_0000118</td>\n",
       "      <td>ISIC_0025030</td>\n",
       "      <td>bkl</td>\n",
       "      <td>histo</td>\n",
       "      <td>80.0</td>\n",
       "      <td>male</td>\n",
       "      <td>scalp</td>\n",
       "    </tr>\n",
       "    <tr>\n",
       "      <th>2</th>\n",
       "      <td>HAM_0002730</td>\n",
       "      <td>ISIC_0026769</td>\n",
       "      <td>bkl</td>\n",
       "      <td>histo</td>\n",
       "      <td>80.0</td>\n",
       "      <td>male</td>\n",
       "      <td>scalp</td>\n",
       "    </tr>\n",
       "    <tr>\n",
       "      <th>3</th>\n",
       "      <td>HAM_0002730</td>\n",
       "      <td>ISIC_0025661</td>\n",
       "      <td>bkl</td>\n",
       "      <td>histo</td>\n",
       "      <td>80.0</td>\n",
       "      <td>male</td>\n",
       "      <td>scalp</td>\n",
       "    </tr>\n",
       "    <tr>\n",
       "      <th>4</th>\n",
       "      <td>HAM_0001466</td>\n",
       "      <td>ISIC_0031633</td>\n",
       "      <td>bkl</td>\n",
       "      <td>histo</td>\n",
       "      <td>75.0</td>\n",
       "      <td>male</td>\n",
       "      <td>ear</td>\n",
       "    </tr>\n",
       "  </tbody>\n",
       "</table>\n",
       "</div>"
      ],
      "text/plain": [
       "     lesion_id      image_id   dx dx_type   age   sex localization\n",
       "0  HAM_0000118  ISIC_0027419  bkl   histo  80.0  male        scalp\n",
       "1  HAM_0000118  ISIC_0025030  bkl   histo  80.0  male        scalp\n",
       "2  HAM_0002730  ISIC_0026769  bkl   histo  80.0  male        scalp\n",
       "3  HAM_0002730  ISIC_0025661  bkl   histo  80.0  male        scalp\n",
       "4  HAM_0001466  ISIC_0031633  bkl   histo  75.0  male          ear"
      ]
     },
     "execution_count": 7,
     "metadata": {},
     "output_type": "execute_result"
    }
   ],
   "source": [
    "##GET DATA\n",
    "data = pd.read_csv(PATIENTS_INFO)\n",
    "data.iloc[0] #SEE OUTPUT OF FIRST ROW, TO CHECK AFTER IF NEW data IS ALREADY WELL CREATED\n",
    "data.head(5)\n"
   ]
  },
  {
   "cell_type": "code",
   "execution_count": 8,
   "metadata": {
    "collapsed": false,
    "jupyter": {
     "outputs_hidden": false
    },
    "pycharm": {
     "is_executing": false,
     "name": "#%%\n"
    }
   },
   "outputs": [
    {
     "name": "stdout",
     "output_type": "stream",
     "text": [
      "<class 'pandas.core.frame.DataFrame'>\n",
      "RangeIndex: 10015 entries, 0 to 10014\n",
      "Data columns (total 7 columns):\n",
      " #   Column        Non-Null Count  Dtype  \n",
      "---  ------        --------------  -----  \n",
      " 0   lesion_id     10015 non-null  object \n",
      " 1   image_id      10015 non-null  object \n",
      " 2   dx            10015 non-null  object \n",
      " 3   dx_type       10015 non-null  object \n",
      " 4   age           9958 non-null   float64\n",
      " 5   sex           10015 non-null  object \n",
      " 6   localization  10015 non-null  object \n",
      "dtypes: float64(1), object(6)\n",
      "memory usage: 547.8+ KB\n"
     ]
    }
   ],
   "source": [
    "## data INFO\n",
    "data.info()\n"
   ]
  },
  {
   "cell_type": "code",
   "execution_count": 9,
   "metadata": {
    "collapsed": false,
    "jupyter": {
     "outputs_hidden": false
    },
    "pycharm": {
     "is_executing": false,
     "name": "#%%\n"
    }
   },
   "outputs": [
    {
     "data": {
      "text/html": [
       "<div>\n",
       "<style scoped>\n",
       "    .dataframe tbody tr th:only-of-type {\n",
       "        vertical-align: middle;\n",
       "    }\n",
       "\n",
       "    .dataframe tbody tr th {\n",
       "        vertical-align: top;\n",
       "    }\n",
       "\n",
       "    .dataframe thead th {\n",
       "        text-align: right;\n",
       "    }\n",
       "</style>\n",
       "<table border=\"1\" class=\"dataframe\">\n",
       "  <thead>\n",
       "    <tr style=\"text-align: right;\">\n",
       "      <th></th>\n",
       "      <th>lesion_id</th>\n",
       "      <th>image_id</th>\n",
       "      <th>dx</th>\n",
       "      <th>dx_type</th>\n",
       "      <th>age</th>\n",
       "      <th>sex</th>\n",
       "      <th>localization</th>\n",
       "    </tr>\n",
       "  </thead>\n",
       "  <tbody>\n",
       "    <tr>\n",
       "      <th>4349</th>\n",
       "      <td>HAM_0000550</td>\n",
       "      <td>ISIC_0024306</td>\n",
       "      <td>nv</td>\n",
       "      <td>follow_up</td>\n",
       "      <td>45.0</td>\n",
       "      <td>male</td>\n",
       "      <td>trunk</td>\n",
       "    </tr>\n",
       "    <tr>\n",
       "      <th>4263</th>\n",
       "      <td>HAM_0003577</td>\n",
       "      <td>ISIC_0024307</td>\n",
       "      <td>nv</td>\n",
       "      <td>follow_up</td>\n",
       "      <td>50.0</td>\n",
       "      <td>male</td>\n",
       "      <td>lower extremity</td>\n",
       "    </tr>\n",
       "    <tr>\n",
       "      <th>4217</th>\n",
       "      <td>HAM_0001477</td>\n",
       "      <td>ISIC_0024308</td>\n",
       "      <td>nv</td>\n",
       "      <td>follow_up</td>\n",
       "      <td>55.0</td>\n",
       "      <td>female</td>\n",
       "      <td>trunk</td>\n",
       "    </tr>\n",
       "    <tr>\n",
       "      <th>3587</th>\n",
       "      <td>HAM_0000484</td>\n",
       "      <td>ISIC_0024309</td>\n",
       "      <td>nv</td>\n",
       "      <td>follow_up</td>\n",
       "      <td>40.0</td>\n",
       "      <td>male</td>\n",
       "      <td>trunk</td>\n",
       "    </tr>\n",
       "    <tr>\n",
       "      <th>1451</th>\n",
       "      <td>HAM_0003350</td>\n",
       "      <td>ISIC_0024310</td>\n",
       "      <td>mel</td>\n",
       "      <td>histo</td>\n",
       "      <td>60.0</td>\n",
       "      <td>male</td>\n",
       "      <td>chest</td>\n",
       "    </tr>\n",
       "  </tbody>\n",
       "</table>\n",
       "</div>"
      ],
      "text/plain": [
       "        lesion_id      image_id   dx    dx_type   age     sex     localization\n",
       "4349  HAM_0000550  ISIC_0024306   nv  follow_up  45.0    male            trunk\n",
       "4263  HAM_0003577  ISIC_0024307   nv  follow_up  50.0    male  lower extremity\n",
       "4217  HAM_0001477  ISIC_0024308   nv  follow_up  55.0  female            trunk\n",
       "3587  HAM_0000484  ISIC_0024309   nv  follow_up  40.0    male            trunk\n",
       "1451  HAM_0003350  ISIC_0024310  mel      histo  60.0    male            chest"
      ]
     },
     "execution_count": 9,
     "metadata": {},
     "output_type": "execute_result"
    }
   ],
   "source": [
    "##SORT BY IMAGE_ID, IN COHERENCE IMAGE_PATHS\n",
    "data = data.sort_values('image_id', ascending=True)\n",
    "data.head(5)\n"
   ]
  },
  {
   "cell_type": "code",
   "execution_count": 10,
   "metadata": {
    "collapsed": false,
    "jupyter": {
     "outputs_hidden": false
    },
    "pycharm": {
     "is_executing": false,
     "name": "#%%\n"
    }
   },
   "outputs": [],
   "source": [
    "def addNewColumn_Populate_data(data, name_new_column, dataToPopulate):\n",
    "\n",
    "    \n",
    "    '''\n",
    "    THIS FUNCTION IS USED TO ADD NEW COLUMN TO data, AND POPULATE COLUMN WITH DATA\n",
    "    :param data: data --> data to apply changes\n",
    "    :param name_new_column: str --> name of new column\n",
    "    :param dataToPopulate: List (str) --> strings to populate data\n",
    "    :return: data changed\n",
    "    '''\n",
    "\n",
    "    try:\n",
    "\n",
    "        data[name_new_column] = dataToPopulate\n",
    "        return data\n",
    "\n",
    "    except:\n",
    "        raise\n"
   ]
  },
  {
   "cell_type": "code",
   "execution_count": 11,
   "metadata": {
    "collapsed": false,
    "jupyter": {
     "outputs_hidden": false
    },
    "pycharm": {
     "is_executing": false,
     "name": "#%%\n"
    }
   },
   "outputs": [
    {
     "data": {
      "text/html": [
       "<div>\n",
       "<style scoped>\n",
       "    .dataframe tbody tr th:only-of-type {\n",
       "        vertical-align: middle;\n",
       "    }\n",
       "\n",
       "    .dataframe tbody tr th {\n",
       "        vertical-align: top;\n",
       "    }\n",
       "\n",
       "    .dataframe thead th {\n",
       "        text-align: right;\n",
       "    }\n",
       "</style>\n",
       "<table border=\"1\" class=\"dataframe\">\n",
       "  <thead>\n",
       "    <tr style=\"text-align: right;\">\n",
       "      <th></th>\n",
       "      <th>lesion_id</th>\n",
       "      <th>image_id</th>\n",
       "      <th>dx</th>\n",
       "      <th>dx_type</th>\n",
       "      <th>age</th>\n",
       "      <th>sex</th>\n",
       "      <th>localization</th>\n",
       "      <th>path</th>\n",
       "    </tr>\n",
       "  </thead>\n",
       "  <tbody>\n",
       "    <tr>\n",
       "      <th>0</th>\n",
       "      <td>HAM_0000118</td>\n",
       "      <td>ISIC_0027419</td>\n",
       "      <td>bkl</td>\n",
       "      <td>histo</td>\n",
       "      <td>80.0</td>\n",
       "      <td>male</td>\n",
       "      <td>scalp</td>\n",
       "      <td>C:\\Users\\chava\\Desktop\\MLRobotics\\PROJECT1\\inp...</td>\n",
       "    </tr>\n",
       "    <tr>\n",
       "      <th>1</th>\n",
       "      <td>HAM_0000118</td>\n",
       "      <td>ISIC_0025030</td>\n",
       "      <td>bkl</td>\n",
       "      <td>histo</td>\n",
       "      <td>80.0</td>\n",
       "      <td>male</td>\n",
       "      <td>scalp</td>\n",
       "      <td>C:\\Users\\chava\\Desktop\\MLRobotics\\PROJECT1\\inp...</td>\n",
       "    </tr>\n",
       "    <tr>\n",
       "      <th>2</th>\n",
       "      <td>HAM_0002730</td>\n",
       "      <td>ISIC_0026769</td>\n",
       "      <td>bkl</td>\n",
       "      <td>histo</td>\n",
       "      <td>80.0</td>\n",
       "      <td>male</td>\n",
       "      <td>scalp</td>\n",
       "      <td>C:\\Users\\chava\\Desktop\\MLRobotics\\PROJECT1\\inp...</td>\n",
       "    </tr>\n",
       "    <tr>\n",
       "      <th>3</th>\n",
       "      <td>HAM_0002730</td>\n",
       "      <td>ISIC_0025661</td>\n",
       "      <td>bkl</td>\n",
       "      <td>histo</td>\n",
       "      <td>80.0</td>\n",
       "      <td>male</td>\n",
       "      <td>scalp</td>\n",
       "      <td>C:\\Users\\chava\\Desktop\\MLRobotics\\PROJECT1\\inp...</td>\n",
       "    </tr>\n",
       "    <tr>\n",
       "      <th>4</th>\n",
       "      <td>HAM_0001466</td>\n",
       "      <td>ISIC_0031633</td>\n",
       "      <td>bkl</td>\n",
       "      <td>histo</td>\n",
       "      <td>75.0</td>\n",
       "      <td>male</td>\n",
       "      <td>ear</td>\n",
       "      <td>C:\\Users\\chava\\Desktop\\MLRobotics\\PROJECT1\\inp...</td>\n",
       "    </tr>\n",
       "  </tbody>\n",
       "</table>\n",
       "</div>"
      ],
      "text/plain": [
       "     lesion_id      image_id   dx dx_type   age   sex localization  \\\n",
       "0  HAM_0000118  ISIC_0027419  bkl   histo  80.0  male        scalp   \n",
       "1  HAM_0000118  ISIC_0025030  bkl   histo  80.0  male        scalp   \n",
       "2  HAM_0002730  ISIC_0026769  bkl   histo  80.0  male        scalp   \n",
       "3  HAM_0002730  ISIC_0025661  bkl   histo  80.0  male        scalp   \n",
       "4  HAM_0001466  ISIC_0031633  bkl   histo  75.0  male          ear   \n",
       "\n",
       "                                                path  \n",
       "0  C:\\Users\\chava\\Desktop\\MLRobotics\\PROJECT1\\inp...  \n",
       "1  C:\\Users\\chava\\Desktop\\MLRobotics\\PROJECT1\\inp...  \n",
       "2  C:\\Users\\chava\\Desktop\\MLRobotics\\PROJECT1\\inp...  \n",
       "3  C:\\Users\\chava\\Desktop\\MLRobotics\\PROJECT1\\inp...  \n",
       "4  C:\\Users\\chava\\Desktop\\MLRobotics\\PROJECT1\\inp...  "
      ]
     },
     "execution_count": 11,
     "metadata": {},
     "output_type": "execute_result"
    }
   ],
   "source": [
    "## SET NEW COLUMN TO data AND IMAGE PATH TO SORTED data (SAME ORDER data AND LIST OF IMAGE_PATHS) \n",
    "data = addNewColumn_Populate_data(data, 'path', images_paths)\n",
    "data = data.sort_index() #sort by index again\n",
    "data.head(5)\n"
   ]
  },
  {
   "cell_type": "code",
   "execution_count": 12,
   "metadata": {
    "collapsed": false,
    "jupyter": {
     "outputs_hidden": false
    },
    "pycharm": {
     "is_executing": false,
     "name": "#%%\n"
    }
   },
   "outputs": [
    {
     "data": {
      "text/plain": [
       "10015"
      ]
     },
     "execution_count": 12,
     "metadata": {},
     "output_type": "execute_result"
    }
   ],
   "source": [
    "## COUNT HOW MANY IMAGES ARE INTO DATASET\n",
    "data.shape[0]\n"
   ]
  },
  {
   "cell_type": "code",
   "execution_count": 13,
   "metadata": {
    "collapsed": false,
    "jupyter": {
     "outputs_hidden": false
    },
    "pycharm": {
     "is_executing": false,
     "name": "#%%\n"
    }
   },
   "outputs": [
    {
     "data": {
      "text/plain": [
       "Index(['lesion_id', 'image_id', 'dx', 'dx_type', 'age', 'sex', 'localization',\n",
       "       'path'],\n",
       "      dtype='object')"
      ]
     },
     "execution_count": 13,
     "metadata": {},
     "output_type": "execute_result"
    }
   ],
   "source": [
    "## GET COLUMNS NAMES\n",
    "data.columns\n"
   ]
  },
  {
   "cell_type": "code",
   "execution_count": 14,
   "metadata": {
    "collapsed": false,
    "jupyter": {
     "outputs_hidden": false
    },
    "pycharm": {
     "is_executing": false,
     "name": "#%%\n"
    }
   },
   "outputs": [
    {
     "data": {
      "text/plain": [
       "array(['bkl', 'nv', 'df', 'mel', 'vasc', 'bcc', 'akiec'], dtype=object)"
      ]
     },
     "execution_count": 14,
     "metadata": {},
     "output_type": "execute_result"
    }
   ],
   "source": [
    "## CHECK HOW MANY CLASSES EXIST\n",
    "classes = data.dx.unique()\n",
    "classes"
   ]
  },
  {
   "cell_type": "code",
   "execution_count": 15,
   "metadata": {
    "collapsed": false,
    "jupyter": {
     "outputs_hidden": false
    },
    "pycharm": {
     "is_executing": false,
     "name": "#%%\n"
    }
   },
   "outputs": [
    {
     "data": {
      "text/plain": [
       "lesion_id        0\n",
       "image_id         0\n",
       "dx               0\n",
       "dx_type          0\n",
       "age             57\n",
       "sex              0\n",
       "localization     0\n",
       "path             0\n",
       "dtype: int64"
      ]
     },
     "execution_count": 15,
     "metadata": {},
     "output_type": "execute_result"
    }
   ],
   "source": [
    "## CHECK NULL VALUES BY COLUMN\n",
    "data.isnull().sum()\n"
   ]
  },
  {
   "cell_type": "code",
   "execution_count": 16,
   "metadata": {
    "collapsed": false,
    "jupyter": {
     "outputs_hidden": false
    },
    "pycharm": {
     "is_executing": false,
     "name": "#%%\n"
    }
   },
   "outputs": [
    {
     "data": {
      "image/png": "[encoded data removed]",
      "text/plain": [
       "<Figure size 640x480 with 1 Axes>"
      ]
     },
     "metadata": {},
     "output_type": "display_data"
    }
   ],
   "source": [
    "## HISTOGRAM WITH SEX DISTRIBUTION\n",
    "bar_names = data.sex.unique()\n",
    "y_pos = np.arange(len(bar_names))\n",
    "samples_total = [data.loc[data.sex == MALE, SEX].count(), \n",
    "                 data.loc[data.sex == FEMALE, SEX].count(),\n",
    "                 data.loc[data.sex == UNKNOWN, SEX].count()]\n",
    "plt.bar(y_pos, samples_total, align='center')\n",
    "plt.xticks(y_pos, bar_names)\n",
    "plt.ylabel('Number Samples')\n",
    "plt.show()\n"
   ]
  },
  {
   "cell_type": "code",
   "execution_count": 17,
   "metadata": {
    "collapsed": false,
    "jupyter": {
     "outputs_hidden": false
    },
    "pycharm": {
     "is_executing": false,
     "name": "#%%\n"
    }
   },
   "outputs": [
    {
     "data": {
      "text/plain": [
       "array(['scalp', 'ear', 'face', 'back', 'trunk', 'chest',\n",
       "       'upper extremity', 'abdomen', 'unknown', 'lower extremity',\n",
       "       'genital', 'neck', 'hand', 'foot', 'acral'], dtype=object)"
      ]
     },
     "execution_count": 17,
     "metadata": {},
     "output_type": "execute_result"
    }
   ],
   "source": [
    "## HISTOGRAM WITH LOCALIZATION DISTRIBUTION\n",
    "local_occurences = data.localization.unique()\n",
    "local_occurences"
   ]
  },
  {
   "cell_type": "code",
   "execution_count": 18,
   "metadata": {
    "collapsed": false,
    "jupyter": {
     "outputs_hidden": false
    },
    "pycharm": {
     "is_executing": false,
     "name": "#%%\n"
    }
   },
   "outputs": [
    {
     "data": {
      "text/plain": [
       "count    9958.000000\n",
       "mean       51.863828\n",
       "std        16.968614\n",
       "min         0.000000\n",
       "25%        40.000000\n",
       "50%        50.000000\n",
       "75%        65.000000\n",
       "max        85.000000\n",
       "Name: age, dtype: float64"
      ]
     },
     "execution_count": 18,
     "metadata": {},
     "output_type": "execute_result"
    }
   ],
   "source": [
    "## DESCRIPTION OF AGE\n",
    "data[AGE].describe()\n"
   ]
  },
  {
   "cell_type": "code",
   "execution_count": 19,
   "metadata": {
    "collapsed": false,
    "jupyter": {
     "outputs_hidden": false
    },
    "pycharm": {
     "is_executing": false,
     "name": "#%%\n"
    }
   },
   "outputs": [
    {
     "data": {
      "image/png": "[encoded data removed]",
      "text/plain": [
       "<Figure size 640x480 with 1 Axes>"
      ]
     },
     "metadata": {},
     "output_type": "display_data"
    }
   ],
   "source": [
    "## DISTRIBUTION NUMBER EXAMPLES PER CLASS\n",
    "y_pos = np.arange(len(classes))\n",
    "title_classes = ['bkl', 'nv', 'df', 'mel', 'vasc', 'bcc', 'akiec']\n",
    "samples_total = [data.loc[data.dx == BKL, DX].count(), \n",
    "                 data.loc[data.dx == NV, DX].count(),\n",
    "                 data.loc[data.dx == DF, DX].count(),\n",
    "                 data.loc[data.dx == MEL, DX].count(),\n",
    "                 data.loc[data.dx == VASC, DX].count(),\n",
    "                 data.loc[data.dx == BCC, DX].count(),\n",
    "                 data.loc[data.dx == AKIEC, DX].count()]\n",
    "plt.bar(y_pos, samples_total, align='center')\n",
    "plt.xticks(y_pos, title_classes)\n",
    "plt.ylabel('Number Samples')\n",
    "plt.show()\n"
   ]
  },
  {
   "cell_type": "code",
   "execution_count": 20,
   "metadata": {
    "collapsed": false,
    "jupyter": {
     "outputs_hidden": false
    },
    "pycharm": {
     "is_executing": false,
     "name": "#%%\n"
    }
   },
   "outputs": [
    {
     "data": {
      "text/plain": [
       "<Axes: xlabel='dx_type'>"
      ]
     },
     "execution_count": 20,
     "metadata": {},
     "output_type": "execute_result"
    },
    {
     "data": {
      "image/png": "[encoded data removed]",
      "text/plain": [
       "<Figure size 640x480 with 1 Axes>"
      ]
     },
     "metadata": {},
     "output_type": "display_data"
    }
   ],
   "source": [
    "## CHECK TYPE OF DIAGNOSIS MADED\n",
    "data[DX_TYPE].value_counts().plot(kind='bar')\n"
   ]
  },
  {
   "cell_type": "code",
   "execution_count": 21,
   "metadata": {
    "collapsed": false,
    "jupyter": {
     "outputs_hidden": false
    },
    "pycharm": {
     "is_executing": false,
     "name": "#%%\n"
    }
   },
   "outputs": [
    {
     "data": {
      "text/plain": [
       "array([[<Axes: title={'center': 'akiec'}>,\n",
       "        <Axes: title={'center': 'bcc'}>, <Axes: title={'center': 'bkl'}>],\n",
       "       [<Axes: title={'center': 'df'}>, <Axes: title={'center': 'mel'}>,\n",
       "        <Axes: title={'center': 'nv'}>],\n",
       "       [<Axes: title={'center': 'vasc'}>, <Axes: >, <Axes: >]],\n",
       "      dtype=object)"
      ]
     },
     "execution_count": 21,
     "metadata": {},
     "output_type": "execute_result"
    },
    {
     "data": {
      "image/png": "[encoded data removed]",
      "text/plain": [
       "<Figure size 1000x1500 with 9 Axes>"
      ]
     },
     "metadata": {},
     "output_type": "display_data"
    }
   ],
   "source": [
    "## CHECK DISTRIBUTION OF CLASSES BY AGE\n",
    "data[AGE].hist(by=data[DX], bins=20, alpha=0.6, figsize=(10, 15))\n"
   ]
  },
  {
   "cell_type": "code",
   "execution_count": 22,
   "metadata": {
    "collapsed": false,
    "jupyter": {
     "outputs_hidden": false
    },
    "pycharm": {
     "is_executing": false,
     "name": "#%%\n"
    }
   },
   "outputs": [
    {
     "data": {
      "text/plain": [
       "array([[<Axes: title={'center': 'akiec'}>,\n",
       "        <Axes: title={'center': 'bcc'}>, <Axes: title={'center': 'bkl'}>],\n",
       "       [<Axes: title={'center': 'df'}>, <Axes: title={'center': 'mel'}>,\n",
       "        <Axes: title={'center': 'nv'}>],\n",
       "       [<Axes: title={'center': 'vasc'}>, <Axes: >, <Axes: >]],\n",
       "      dtype=object)"
      ]
     },
     "execution_count": 22,
     "metadata": {},
     "output_type": "execute_result"
    },
    {
     "data": {
      "image/png": "[encoded data removed]",
      "text/plain": [
       "<Figure size 1000x1500 with 9 Axes>"
      ]
     },
     "metadata": {},
     "output_type": "display_data"
    }
   ],
   "source": [
    "## CHECK DISTRIBUTION OF CLASSES BY SEX\n",
    "data[SEX].hist(by=data[DX], bins=20, alpha=0.6, figsize=(10, 15))\n"
   ]
  },
  {
   "cell_type": "code",
   "execution_count": 23,
   "metadata": {
    "collapsed": false,
    "jupyter": {
     "outputs_hidden": false
    },
    "pycharm": {
     "is_executing": false,
     "name": "#%%\n"
    }
   },
   "outputs": [
    {
     "data": {
      "text/plain": [
       "<Axes: title={'center': 'Samples per localization'}, ylabel='localization'>"
      ]
     },
     "execution_count": 23,
     "metadata": {},
     "output_type": "execute_result"
    },
    {
     "data": {
      "image/png": "[encoded data removed]",
      "text/plain": [
       "<Figure size 500x500 with 1 Axes>"
      ]
     },
     "metadata": {},
     "output_type": "display_data"
    }
   ],
   "source": [
    "## CHECK WHAT ARE THE MOST BODY AFFECTED AREAS\n",
    "data[LOCALIZATION].value_counts().plot(kind='barh', figsize=(5, 5), colormap='Paired',\n",
    "                                        title='Samples per localization')\n"
   ]
  },
  {
   "cell_type": "code",
   "execution_count": 24,
   "metadata": {
    "collapsed": false,
    "jupyter": {
     "outputs_hidden": false
    },
    "pycharm": {
     "is_executing": false,
     "name": "#%%\n"
    }
   },
   "outputs": [
    {
     "data": {
      "text/plain": [
       "array([[<Axes: title={'center': 'akiec'}>,\n",
       "        <Axes: title={'center': 'bcc'}>, <Axes: title={'center': 'bkl'}>],\n",
       "       [<Axes: title={'center': 'df'}>, <Axes: title={'center': 'mel'}>,\n",
       "        <Axes: title={'center': 'nv'}>],\n",
       "       [<Axes: title={'center': 'vasc'}>, <Axes: >, <Axes: >]],\n",
       "      dtype=object)"
      ]
     },
     "execution_count": 24,
     "metadata": {},
     "output_type": "execute_result"
    },
    {
     "data": {
      "image/png": "[encoded data removed]",
      "text/plain": [
       "<Figure size 1000x2000 with 9 Axes>"
      ]
     },
     "metadata": {},
     "output_type": "display_data"
    }
   ],
   "source": [
    "## AFFECTED BODY AREAS BY CLASS\n",
    "data[LOCALIZATION].hist(by=data[DX], bins=20, alpha=0.6, figsize=(10, 20))\n"
   ]
  },
  {
   "cell_type": "code",
   "execution_count": 25,
   "metadata": {
    "collapsed": false,
    "jupyter": {
     "outputs_hidden": false
    },
    "pycharm": {
     "is_executing": false,
     "name": "#%%\n"
    }
   },
   "outputs": [],
   "source": [
    "## ACESS IMAGE PIXELS data\n",
    "PIXELS_PATH = os.path.join(INPUT_DIR, PIXEL_28_RGB_CSV)\n",
    "pixel_data = pd.read_csv(PIXELS_PATH)\n"
   ]
  },
  {
   "cell_type": "code",
   "execution_count": 26,
   "metadata": {
    "collapsed": false,
    "jupyter": {
     "outputs_hidden": false
    },
    "pycharm": {
     "is_executing": false,
     "name": "#%%\n"
    }
   },
   "outputs": [
    {
     "data": {
      "text/plain": [
       "(10015, 2353)"
      ]
     },
     "execution_count": 26,
     "metadata": {},
     "output_type": "execute_result"
    }
   ],
   "source": [
    "## CHECK SHAPE OF data\n",
    "pixel_data.shape\n"
   ]
  },
  {
   "cell_type": "code",
   "execution_count": 27,
   "metadata": {
    "collapsed": false,
    "jupyter": {
     "outputs_hidden": false
    },
    "pycharm": {
     "is_executing": false,
     "name": "#%%\n"
    }
   },
   "outputs": [
    {
     "data": {
      "text/plain": [
       "label\n",
       "4    6705\n",
       "6    1113\n",
       "2    1099\n",
       "1     514\n",
       "0     327\n",
       "5     142\n",
       "3     115\n",
       "Name: count, dtype: int64"
      ]
     },
     "execution_count": 27,
     "metadata": {},
     "output_type": "execute_result"
    }
   ],
   "source": [
    "pixel_data['label'].value_counts()\n",
    "# 0 - AKIEC, 1 - BCC, 2 - BKL, 3- DF, 4 - NV, 5 - VASC, 6 - MEL"
   ]
  },
  {
   "cell_type": "code",
   "execution_count": 28,
   "metadata": {
    "collapsed": false,
    "jupyter": {
     "outputs_hidden": false
    },
    "pycharm": {
     "is_executing": false,
     "name": "#%%\n"
    }
   },
   "outputs": [
    {
     "data": {
      "text/html": [
       "<div>\n",
       "<style scoped>\n",
       "    .dataframe tbody tr th:only-of-type {\n",
       "        vertical-align: middle;\n",
       "    }\n",
       "\n",
       "    .dataframe tbody tr th {\n",
       "        vertical-align: top;\n",
       "    }\n",
       "\n",
       "    .dataframe thead th {\n",
       "        text-align: right;\n",
       "    }\n",
       "</style>\n",
       "<table border=\"1\" class=\"dataframe\">\n",
       "  <thead>\n",
       "    <tr style=\"text-align: right;\">\n",
       "      <th></th>\n",
       "      <th>pixel0000</th>\n",
       "      <th>pixel0001</th>\n",
       "      <th>pixel0002</th>\n",
       "      <th>pixel0003</th>\n",
       "      <th>pixel0004</th>\n",
       "      <th>pixel0005</th>\n",
       "      <th>pixel0006</th>\n",
       "      <th>pixel0007</th>\n",
       "      <th>pixel0008</th>\n",
       "      <th>pixel0009</th>\n",
       "      <th>...</th>\n",
       "      <th>pixel2343</th>\n",
       "      <th>pixel2344</th>\n",
       "      <th>pixel2345</th>\n",
       "      <th>pixel2346</th>\n",
       "      <th>pixel2347</th>\n",
       "      <th>pixel2348</th>\n",
       "      <th>pixel2349</th>\n",
       "      <th>pixel2350</th>\n",
       "      <th>pixel2351</th>\n",
       "      <th>label</th>\n",
       "    </tr>\n",
       "  </thead>\n",
       "  <tbody>\n",
       "    <tr>\n",
       "      <th>0</th>\n",
       "      <td>192</td>\n",
       "      <td>153</td>\n",
       "      <td>193</td>\n",
       "      <td>195</td>\n",
       "      <td>155</td>\n",
       "      <td>192</td>\n",
       "      <td>197</td>\n",
       "      <td>154</td>\n",
       "      <td>185</td>\n",
       "      <td>202</td>\n",
       "      <td>...</td>\n",
       "      <td>173</td>\n",
       "      <td>124</td>\n",
       "      <td>138</td>\n",
       "      <td>183</td>\n",
       "      <td>147</td>\n",
       "      <td>166</td>\n",
       "      <td>185</td>\n",
       "      <td>154</td>\n",
       "      <td>177</td>\n",
       "      <td>2</td>\n",
       "    </tr>\n",
       "    <tr>\n",
       "      <th>1</th>\n",
       "      <td>25</td>\n",
       "      <td>14</td>\n",
       "      <td>30</td>\n",
       "      <td>68</td>\n",
       "      <td>48</td>\n",
       "      <td>75</td>\n",
       "      <td>123</td>\n",
       "      <td>93</td>\n",
       "      <td>126</td>\n",
       "      <td>158</td>\n",
       "      <td>...</td>\n",
       "      <td>60</td>\n",
       "      <td>39</td>\n",
       "      <td>55</td>\n",
       "      <td>25</td>\n",
       "      <td>14</td>\n",
       "      <td>28</td>\n",
       "      <td>25</td>\n",
       "      <td>14</td>\n",
       "      <td>27</td>\n",
       "      <td>2</td>\n",
       "    </tr>\n",
       "    <tr>\n",
       "      <th>2</th>\n",
       "      <td>192</td>\n",
       "      <td>138</td>\n",
       "      <td>153</td>\n",
       "      <td>200</td>\n",
       "      <td>145</td>\n",
       "      <td>163</td>\n",
       "      <td>201</td>\n",
       "      <td>142</td>\n",
       "      <td>160</td>\n",
       "      <td>206</td>\n",
       "      <td>...</td>\n",
       "      <td>167</td>\n",
       "      <td>129</td>\n",
       "      <td>143</td>\n",
       "      <td>159</td>\n",
       "      <td>124</td>\n",
       "      <td>142</td>\n",
       "      <td>136</td>\n",
       "      <td>104</td>\n",
       "      <td>117</td>\n",
       "      <td>2</td>\n",
       "    </tr>\n",
       "    <tr>\n",
       "      <th>3</th>\n",
       "      <td>38</td>\n",
       "      <td>19</td>\n",
       "      <td>30</td>\n",
       "      <td>95</td>\n",
       "      <td>59</td>\n",
       "      <td>72</td>\n",
       "      <td>143</td>\n",
       "      <td>103</td>\n",
       "      <td>119</td>\n",
       "      <td>171</td>\n",
       "      <td>...</td>\n",
       "      <td>44</td>\n",
       "      <td>26</td>\n",
       "      <td>36</td>\n",
       "      <td>25</td>\n",
       "      <td>12</td>\n",
       "      <td>17</td>\n",
       "      <td>25</td>\n",
       "      <td>12</td>\n",
       "      <td>15</td>\n",
       "      <td>2</td>\n",
       "    </tr>\n",
       "    <tr>\n",
       "      <th>4</th>\n",
       "      <td>158</td>\n",
       "      <td>113</td>\n",
       "      <td>139</td>\n",
       "      <td>194</td>\n",
       "      <td>144</td>\n",
       "      <td>174</td>\n",
       "      <td>215</td>\n",
       "      <td>162</td>\n",
       "      <td>191</td>\n",
       "      <td>225</td>\n",
       "      <td>...</td>\n",
       "      <td>209</td>\n",
       "      <td>166</td>\n",
       "      <td>185</td>\n",
       "      <td>172</td>\n",
       "      <td>135</td>\n",
       "      <td>149</td>\n",
       "      <td>109</td>\n",
       "      <td>78</td>\n",
       "      <td>92</td>\n",
       "      <td>2</td>\n",
       "    </tr>\n",
       "  </tbody>\n",
       "</table>\n",
       "<p>5 rows × 2353 columns</p>\n",
       "</div>"
      ],
      "text/plain": [
       "   pixel0000  pixel0001  pixel0002  pixel0003  pixel0004  pixel0005  \\\n",
       "0        192        153        193        195        155        192   \n",
       "1         25         14         30         68         48         75   \n",
       "2        192        138        153        200        145        163   \n",
       "3         38         19         30         95         59         72   \n",
       "4        158        113        139        194        144        174   \n",
       "\n",
       "   pixel0006  pixel0007  pixel0008  pixel0009  ...  pixel2343  pixel2344  \\\n",
       "0        197        154        185        202  ...        173        124   \n",
       "1        123         93        126        158  ...         60         39   \n",
       "2        201        142        160        206  ...        167        129   \n",
       "3        143        103        119        171  ...         44         26   \n",
       "4        215        162        191        225  ...        209        166   \n",
       "\n",
       "   pixel2345  pixel2346  pixel2347  pixel2348  pixel2349  pixel2350  \\\n",
       "0        138        183        147        166        185        154   \n",
       "1         55         25         14         28         25         14   \n",
       "2        143        159        124        142        136        104   \n",
       "3         36         25         12         17         25         12   \n",
       "4        185        172        135        149        109         78   \n",
       "\n",
       "   pixel2351  label  \n",
       "0        177      2  \n",
       "1         27      2  \n",
       "2        117      2  \n",
       "3         15      2  \n",
       "4         92      2  \n",
       "\n",
       "[5 rows x 2353 columns]"
      ]
     },
     "execution_count": 28,
     "metadata": {},
     "output_type": "execute_result"
    }
   ],
   "source": [
    "## FIRST FIVE LINES OF data\n",
    "pixel_data.head(5)\n"
   ]
  },
  {
   "cell_type": "code",
   "execution_count": 29,
   "metadata": {
    "collapsed": false,
    "jupyter": {
     "outputs_hidden": false
    },
    "pycharm": {
     "is_executing": false,
     "name": "#%%\n"
    }
   },
   "outputs": [
    {
     "data": {
      "text/html": [
       "<div>\n",
       "<style scoped>\n",
       "    .dataframe tbody tr th:only-of-type {\n",
       "        vertical-align: middle;\n",
       "    }\n",
       "\n",
       "    .dataframe tbody tr th {\n",
       "        vertical-align: top;\n",
       "    }\n",
       "\n",
       "    .dataframe thead th {\n",
       "        text-align: right;\n",
       "    }\n",
       "</style>\n",
       "<table border=\"1\" class=\"dataframe\">\n",
       "  <thead>\n",
       "    <tr style=\"text-align: right;\">\n",
       "      <th></th>\n",
       "      <th>pixel0000</th>\n",
       "      <th>pixel0001</th>\n",
       "      <th>pixel0002</th>\n",
       "      <th>pixel0003</th>\n",
       "      <th>pixel0004</th>\n",
       "      <th>pixel0005</th>\n",
       "      <th>pixel0006</th>\n",
       "      <th>pixel0007</th>\n",
       "      <th>pixel0008</th>\n",
       "      <th>pixel0009</th>\n",
       "      <th>...</th>\n",
       "      <th>pixel2343</th>\n",
       "      <th>pixel2344</th>\n",
       "      <th>pixel2345</th>\n",
       "      <th>pixel2346</th>\n",
       "      <th>pixel2347</th>\n",
       "      <th>pixel2348</th>\n",
       "      <th>pixel2349</th>\n",
       "      <th>pixel2350</th>\n",
       "      <th>pixel2351</th>\n",
       "      <th>label</th>\n",
       "    </tr>\n",
       "  </thead>\n",
       "  <tbody>\n",
       "    <tr>\n",
       "      <th>1617</th>\n",
       "      <td>158</td>\n",
       "      <td>80</td>\n",
       "      <td>110</td>\n",
       "      <td>154</td>\n",
       "      <td>67</td>\n",
       "      <td>98</td>\n",
       "      <td>166</td>\n",
       "      <td>81</td>\n",
       "      <td>119</td>\n",
       "      <td>181</td>\n",
       "      <td>...</td>\n",
       "      <td>160</td>\n",
       "      <td>83</td>\n",
       "      <td>113</td>\n",
       "      <td>153</td>\n",
       "      <td>85</td>\n",
       "      <td>113</td>\n",
       "      <td>142</td>\n",
       "      <td>80</td>\n",
       "      <td>106</td>\n",
       "      <td>6</td>\n",
       "    </tr>\n",
       "    <tr>\n",
       "      <th>8128</th>\n",
       "      <td>214</td>\n",
       "      <td>167</td>\n",
       "      <td>173</td>\n",
       "      <td>215</td>\n",
       "      <td>165</td>\n",
       "      <td>169</td>\n",
       "      <td>217</td>\n",
       "      <td>166</td>\n",
       "      <td>167</td>\n",
       "      <td>218</td>\n",
       "      <td>...</td>\n",
       "      <td>219</td>\n",
       "      <td>151</td>\n",
       "      <td>151</td>\n",
       "      <td>217</td>\n",
       "      <td>148</td>\n",
       "      <td>141</td>\n",
       "      <td>214</td>\n",
       "      <td>147</td>\n",
       "      <td>140</td>\n",
       "      <td>4</td>\n",
       "    </tr>\n",
       "    <tr>\n",
       "      <th>2168</th>\n",
       "      <td>206</td>\n",
       "      <td>127</td>\n",
       "      <td>123</td>\n",
       "      <td>209</td>\n",
       "      <td>129</td>\n",
       "      <td>122</td>\n",
       "      <td>215</td>\n",
       "      <td>144</td>\n",
       "      <td>143</td>\n",
       "      <td>220</td>\n",
       "      <td>...</td>\n",
       "      <td>223</td>\n",
       "      <td>164</td>\n",
       "      <td>151</td>\n",
       "      <td>219</td>\n",
       "      <td>153</td>\n",
       "      <td>136</td>\n",
       "      <td>216</td>\n",
       "      <td>148</td>\n",
       "      <td>133</td>\n",
       "      <td>6</td>\n",
       "    </tr>\n",
       "    <tr>\n",
       "      <th>1090</th>\n",
       "      <td>205</td>\n",
       "      <td>152</td>\n",
       "      <td>161</td>\n",
       "      <td>210</td>\n",
       "      <td>156</td>\n",
       "      <td>166</td>\n",
       "      <td>214</td>\n",
       "      <td>159</td>\n",
       "      <td>168</td>\n",
       "      <td>214</td>\n",
       "      <td>...</td>\n",
       "      <td>199</td>\n",
       "      <td>157</td>\n",
       "      <td>159</td>\n",
       "      <td>197</td>\n",
       "      <td>154</td>\n",
       "      <td>157</td>\n",
       "      <td>194</td>\n",
       "      <td>152</td>\n",
       "      <td>155</td>\n",
       "      <td>2</td>\n",
       "    </tr>\n",
       "    <tr>\n",
       "      <th>7754</th>\n",
       "      <td>123</td>\n",
       "      <td>97</td>\n",
       "      <td>103</td>\n",
       "      <td>137</td>\n",
       "      <td>108</td>\n",
       "      <td>114</td>\n",
       "      <td>136</td>\n",
       "      <td>103</td>\n",
       "      <td>104</td>\n",
       "      <td>145</td>\n",
       "      <td>...</td>\n",
       "      <td>145</td>\n",
       "      <td>122</td>\n",
       "      <td>129</td>\n",
       "      <td>138</td>\n",
       "      <td>116</td>\n",
       "      <td>120</td>\n",
       "      <td>131</td>\n",
       "      <td>109</td>\n",
       "      <td>110</td>\n",
       "      <td>4</td>\n",
       "    </tr>\n",
       "  </tbody>\n",
       "</table>\n",
       "<p>5 rows × 2353 columns</p>\n",
       "</div>"
      ],
      "text/plain": [
       "      pixel0000  pixel0001  pixel0002  pixel0003  pixel0004  pixel0005  \\\n",
       "1617        158         80        110        154         67         98   \n",
       "8128        214        167        173        215        165        169   \n",
       "2168        206        127        123        209        129        122   \n",
       "1090        205        152        161        210        156        166   \n",
       "7754        123         97        103        137        108        114   \n",
       "\n",
       "      pixel0006  pixel0007  pixel0008  pixel0009  ...  pixel2343  pixel2344  \\\n",
       "1617        166         81        119        181  ...        160         83   \n",
       "8128        217        166        167        218  ...        219        151   \n",
       "2168        215        144        143        220  ...        223        164   \n",
       "1090        214        159        168        214  ...        199        157   \n",
       "7754        136        103        104        145  ...        145        122   \n",
       "\n",
       "      pixel2345  pixel2346  pixel2347  pixel2348  pixel2349  pixel2350  \\\n",
       "1617        113        153         85        113        142         80   \n",
       "8128        151        217        148        141        214        147   \n",
       "2168        151        219        153        136        216        148   \n",
       "1090        159        197        154        157        194        152   \n",
       "7754        129        138        116        120        131        109   \n",
       "\n",
       "      pixel2351  label  \n",
       "1617        106      6  \n",
       "8128        140      4  \n",
       "2168        133      6  \n",
       "1090        155      2  \n",
       "7754        110      4  \n",
       "\n",
       "[5 rows x 2353 columns]"
      ]
     },
     "execution_count": 29,
     "metadata": {},
     "output_type": "execute_result"
    }
   ],
   "source": [
    "## SHUFFLE ROWS\n",
    "## NO RESET INDEX, BECAUSE IT'S NOT IMPORTANT IN THIS ANALYSIS\n",
    "pixel_data = pixel_data.sample(n=len(pixel_data), random_state=42)    \n",
    "pixel_data.head(5)\n"
   ]
  },
  {
   "cell_type": "code",
   "execution_count": 30,
   "metadata": {
    "collapsed": false,
    "jupyter": {
     "outputs_hidden": false
    },
    "pycharm": {
     "is_executing": false,
     "name": "#%%\n"
    }
   },
   "outputs": [
    {
     "data": {
      "text/plain": [
       "[[array([155, 111, 116, ..., 110,  59,  70], dtype=int64),\n",
       "  array([209, 185, 184, ..., 161, 140, 131], dtype=int64),\n",
       "  array([202, 135, 160, ..., 192, 146, 157], dtype=int64)],\n",
       " [array([180, 148, 152, ..., 191, 157, 155], dtype=int64),\n",
       "  array([56, 41, 31, ..., 10,  7,  7], dtype=int64),\n",
       "  array([81, 54, 68, ...,  8,  4, 10], dtype=int64)],\n",
       " [array([205, 152, 161, ..., 194, 152, 155], dtype=int64),\n",
       "  array([186, 144, 152, ..., 185, 149, 153], dtype=int64),\n",
       "  array([154, 131, 139, ..., 169, 148, 149], dtype=int64)],\n",
       " [array([246, 191, 182, ..., 226, 180, 167], dtype=int64),\n",
       "  array([194, 143, 153, ..., 184, 133, 131], dtype=int64),\n",
       "  array([176, 145, 138, ..., 150, 111, 107], dtype=int64)],\n",
       " [array([214, 167, 173, ..., 214, 147, 140], dtype=int64),\n",
       "  array([123,  97, 103, ..., 131, 109, 110], dtype=int64),\n",
       "  array([185, 136, 113, ..., 211, 162, 143], dtype=int64)],\n",
       " [array([147, 118, 127, ...,  73,  56,  56], dtype=int64),\n",
       "  array([187, 126, 119, ..., 193, 152, 169], dtype=int64),\n",
       "  array([248, 181, 199, ..., 231, 168, 173], dtype=int64)],\n",
       " [array([158,  80, 110, ..., 142,  80, 106], dtype=int64),\n",
       "  array([206, 127, 123, ..., 216, 148, 133], dtype=int64),\n",
       "  array([122,  86,  93, ..., 128,  92, 102], dtype=int64)]]"
      ]
     },
     "execution_count": 30,
     "metadata": {},
     "output_type": "execute_result"
    }
   ],
   "source": [
    "## EXAMPLE OF THREE IMAGES BY CLASSES --> USING 28*28 PIXEL RGB CSV DILE\n",
    "def getImagesByClass(target, numberImages):\n",
    "    images = []\n",
    "    for i in range(pixel_data.shape[0]):\n",
    "        if pixel_data.label.iat[i] == target:\n",
    "            images.append(pixel_data.iloc[i, :-1].values)\n",
    "        if len(images) == numberImages:\n",
    "            break\n",
    "    return images\n",
    "\n",
    "images_by_classes = []\n",
    "order = pixel_data.label.unique()\n",
    "for i in range(len(order)):\n",
    "    images_by_classes.append(getImagesByClass(i,3))\n",
    "images_by_classes\n"
   ]
  },
  {
   "cell_type": "code",
   "execution_count": 31,
   "metadata": {
    "collapsed": false,
    "jupyter": {
     "outputs_hidden": false
    },
    "pycharm": {
     "is_executing": false,
     "name": "#%%\n"
    }
   },
   "outputs": [],
   "source": [
    "## RESIZE DATA FROM (DIMENSIONS, ) TO (WIDTH, HEIGHT, CHANNELS)\n",
    "images_by_classes = np.array(images_by_classes)\n",
    "images_by_classes = np.reshape(images_by_classes, (images_by_classes.shape[0],\n",
    "                                                   images_by_classes.shape[1],\n",
    "                                                   28, 28, 3))"
   ]
  },
  {
   "cell_type": "code",
   "execution_count": 32,
   "metadata": {
    "collapsed": false,
    "jupyter": {
     "outputs_hidden": false
    },
    "pycharm": {
     "is_executing": false,
     "name": "#%%\n"
    }
   },
   "outputs": [
    {
     "data": {
      "text/plain": [
       "(7, 3, 28, 28, 3)"
      ]
     },
     "execution_count": 32,
     "metadata": {},
     "output_type": "execute_result"
    }
   ],
   "source": [
    "images_by_classes.shape\n"
   ]
  },
  {
   "cell_type": "code",
   "execution_count": 33,
   "metadata": {
    "collapsed": false,
    "jupyter": {
     "outputs_hidden": false
    },
    "pycharm": {
     "is_executing": false,
     "name": "#%%\n"
    }
   },
   "outputs": [
    {
     "data": {
      "image/png": "[encoded data removed]",
      "text/plain": [
       "<Figure size 1000x1000 with 21 Axes>"
      ]
     },
     "metadata": {},
     "output_type": "display_data"
    }
   ],
   "source": [
    "## PLOT 3 IMAGES BY EACH CLASS\n",
    "f, axr = plt.subplots(7,3, figsize=(10,10))\n",
    "f.tight_layout()\n",
    "title = [AKIEC, BCC, BKL, DF, NV, VASC, MEL]\n",
    "for i in range(7):\n",
    "    for j in range(3):\n",
    "        axr[i,j].set_axis_off()\n",
    "        axr[i,j].imshow(images_by_classes[i][j])\n",
    "        axr[i,j].set_title(title[i])\n",
    "#plt.show()"
   ]
  },
  {
   "cell_type": "code",
   "execution_count": 34,
   "metadata": {},
   "outputs": [
    {
     "data": {
      "text/html": [
       "<div>\n",
       "<style scoped>\n",
       "    .dataframe tbody tr th:only-of-type {\n",
       "        vertical-align: middle;\n",
       "    }\n",
       "\n",
       "    .dataframe tbody tr th {\n",
       "        vertical-align: top;\n",
       "    }\n",
       "\n",
       "    .dataframe thead th {\n",
       "        text-align: right;\n",
       "    }\n",
       "</style>\n",
       "<table border=\"1\" class=\"dataframe\">\n",
       "  <thead>\n",
       "    <tr style=\"text-align: right;\">\n",
       "      <th></th>\n",
       "      <th>lesion_id</th>\n",
       "      <th>image_id</th>\n",
       "      <th>dx</th>\n",
       "      <th>dx_type</th>\n",
       "      <th>age</th>\n",
       "      <th>sex</th>\n",
       "      <th>localization</th>\n",
       "      <th>path</th>\n",
       "    </tr>\n",
       "  </thead>\n",
       "  <tbody>\n",
       "    <tr>\n",
       "      <th>0</th>\n",
       "      <td>HAM_0000118</td>\n",
       "      <td>ISIC_0027419</td>\n",
       "      <td>bkl</td>\n",
       "      <td>histo</td>\n",
       "      <td>80.0</td>\n",
       "      <td>male</td>\n",
       "      <td>scalp</td>\n",
       "      <td>C:\\Users\\chava\\Desktop\\MLRobotics\\PROJECT1\\inp...</td>\n",
       "    </tr>\n",
       "    <tr>\n",
       "      <th>1</th>\n",
       "      <td>HAM_0000118</td>\n",
       "      <td>ISIC_0025030</td>\n",
       "      <td>bkl</td>\n",
       "      <td>histo</td>\n",
       "      <td>80.0</td>\n",
       "      <td>male</td>\n",
       "      <td>scalp</td>\n",
       "      <td>C:\\Users\\chava\\Desktop\\MLRobotics\\PROJECT1\\inp...</td>\n",
       "    </tr>\n",
       "    <tr>\n",
       "      <th>2</th>\n",
       "      <td>HAM_0002730</td>\n",
       "      <td>ISIC_0026769</td>\n",
       "      <td>bkl</td>\n",
       "      <td>histo</td>\n",
       "      <td>80.0</td>\n",
       "      <td>male</td>\n",
       "      <td>scalp</td>\n",
       "      <td>C:\\Users\\chava\\Desktop\\MLRobotics\\PROJECT1\\inp...</td>\n",
       "    </tr>\n",
       "    <tr>\n",
       "      <th>3</th>\n",
       "      <td>HAM_0002730</td>\n",
       "      <td>ISIC_0025661</td>\n",
       "      <td>bkl</td>\n",
       "      <td>histo</td>\n",
       "      <td>80.0</td>\n",
       "      <td>male</td>\n",
       "      <td>scalp</td>\n",
       "      <td>C:\\Users\\chava\\Desktop\\MLRobotics\\PROJECT1\\inp...</td>\n",
       "    </tr>\n",
       "    <tr>\n",
       "      <th>4</th>\n",
       "      <td>HAM_0001466</td>\n",
       "      <td>ISIC_0031633</td>\n",
       "      <td>bkl</td>\n",
       "      <td>histo</td>\n",
       "      <td>75.0</td>\n",
       "      <td>male</td>\n",
       "      <td>ear</td>\n",
       "      <td>C:\\Users\\chava\\Desktop\\MLRobotics\\PROJECT1\\inp...</td>\n",
       "    </tr>\n",
       "  </tbody>\n",
       "</table>\n",
       "</div>"
      ],
      "text/plain": [
       "     lesion_id      image_id   dx dx_type   age   sex localization  \\\n",
       "0  HAM_0000118  ISIC_0027419  bkl   histo  80.0  male        scalp   \n",
       "1  HAM_0000118  ISIC_0025030  bkl   histo  80.0  male        scalp   \n",
       "2  HAM_0002730  ISIC_0026769  bkl   histo  80.0  male        scalp   \n",
       "3  HAM_0002730  ISIC_0025661  bkl   histo  80.0  male        scalp   \n",
       "4  HAM_0001466  ISIC_0031633  bkl   histo  75.0  male          ear   \n",
       "\n",
       "                                                path  \n",
       "0  C:\\Users\\chava\\Desktop\\MLRobotics\\PROJECT1\\inp...  \n",
       "1  C:\\Users\\chava\\Desktop\\MLRobotics\\PROJECT1\\inp...  \n",
       "2  C:\\Users\\chava\\Desktop\\MLRobotics\\PROJECT1\\inp...  \n",
       "3  C:\\Users\\chava\\Desktop\\MLRobotics\\PROJECT1\\inp...  \n",
       "4  C:\\Users\\chava\\Desktop\\MLRobotics\\PROJECT1\\inp...  "
      ]
     },
     "execution_count": 34,
     "metadata": {},
     "output_type": "execute_result"
    }
   ],
   "source": [
    "data.head()"
   ]
  },
  {
   "cell_type": "markdown",
   "metadata": {
    "jp-MarkdownHeadingCollapsed": true
   },
   "source": [
    "### Imputing AGE Column"
   ]
  },
  {
   "cell_type": "code",
   "execution_count": 35,
   "metadata": {},
   "outputs": [],
   "source": [
    "import math\n",
    "\n",
    "def impute_null_values(data, column, mean=True):\n",
    "    series_column = data[column]\n",
    "\n",
    "    if len(series_column) == 0:\n",
    "        return data\n",
    "\n",
    "    if mean:\n",
    "        column_mean = series_column.mean()\n",
    "        truncated_mean = math.trunc(column_mean)  # Truncate to integer\n",
    "        data[column].fillna(truncated_mean, inplace=True)\n",
    "    else:\n",
    "        column_median = series_column.median()\n",
    "        truncated_median = math.trunc(column_median)  # Truncate to integer\n",
    "        data[column].fillna(truncated_median, inplace=True)\n",
    "\n",
    "    return data\n"
   ]
  },
  {
   "cell_type": "code",
   "execution_count": 36,
   "metadata": {
    "scrolled": true
   },
   "outputs": [
    {
     "data": {
      "text/html": [
       "<div>\n",
       "<style scoped>\n",
       "    .dataframe tbody tr th:only-of-type {\n",
       "        vertical-align: middle;\n",
       "    }\n",
       "\n",
       "    .dataframe tbody tr th {\n",
       "        vertical-align: top;\n",
       "    }\n",
       "\n",
       "    .dataframe thead th {\n",
       "        text-align: right;\n",
       "    }\n",
       "</style>\n",
       "<table border=\"1\" class=\"dataframe\">\n",
       "  <thead>\n",
       "    <tr style=\"text-align: right;\">\n",
       "      <th></th>\n",
       "      <th>lesion_id</th>\n",
       "      <th>image_id</th>\n",
       "      <th>dx</th>\n",
       "      <th>dx_type</th>\n",
       "      <th>age</th>\n",
       "      <th>sex</th>\n",
       "      <th>localization</th>\n",
       "      <th>path</th>\n",
       "    </tr>\n",
       "  </thead>\n",
       "  <tbody>\n",
       "    <tr>\n",
       "      <th>0</th>\n",
       "      <td>HAM_0000118</td>\n",
       "      <td>ISIC_0027419</td>\n",
       "      <td>bkl</td>\n",
       "      <td>histo</td>\n",
       "      <td>80.0</td>\n",
       "      <td>male</td>\n",
       "      <td>scalp</td>\n",
       "      <td>C:\\Users\\chava\\Desktop\\MLRobotics\\PROJECT1\\inp...</td>\n",
       "    </tr>\n",
       "    <tr>\n",
       "      <th>1</th>\n",
       "      <td>HAM_0000118</td>\n",
       "      <td>ISIC_0025030</td>\n",
       "      <td>bkl</td>\n",
       "      <td>histo</td>\n",
       "      <td>80.0</td>\n",
       "      <td>male</td>\n",
       "      <td>scalp</td>\n",
       "      <td>C:\\Users\\chava\\Desktop\\MLRobotics\\PROJECT1\\inp...</td>\n",
       "    </tr>\n",
       "    <tr>\n",
       "      <th>2</th>\n",
       "      <td>HAM_0002730</td>\n",
       "      <td>ISIC_0026769</td>\n",
       "      <td>bkl</td>\n",
       "      <td>histo</td>\n",
       "      <td>80.0</td>\n",
       "      <td>male</td>\n",
       "      <td>scalp</td>\n",
       "      <td>C:\\Users\\chava\\Desktop\\MLRobotics\\PROJECT1\\inp...</td>\n",
       "    </tr>\n",
       "    <tr>\n",
       "      <th>3</th>\n",
       "      <td>HAM_0002730</td>\n",
       "      <td>ISIC_0025661</td>\n",
       "      <td>bkl</td>\n",
       "      <td>histo</td>\n",
       "      <td>80.0</td>\n",
       "      <td>male</td>\n",
       "      <td>scalp</td>\n",
       "      <td>C:\\Users\\chava\\Desktop\\MLRobotics\\PROJECT1\\inp...</td>\n",
       "    </tr>\n",
       "    <tr>\n",
       "      <th>4</th>\n",
       "      <td>HAM_0001466</td>\n",
       "      <td>ISIC_0031633</td>\n",
       "      <td>bkl</td>\n",
       "      <td>histo</td>\n",
       "      <td>75.0</td>\n",
       "      <td>male</td>\n",
       "      <td>ear</td>\n",
       "      <td>C:\\Users\\chava\\Desktop\\MLRobotics\\PROJECT1\\inp...</td>\n",
       "    </tr>\n",
       "  </tbody>\n",
       "</table>\n",
       "</div>"
      ],
      "text/plain": [
       "     lesion_id      image_id   dx dx_type   age   sex localization  \\\n",
       "0  HAM_0000118  ISIC_0027419  bkl   histo  80.0  male        scalp   \n",
       "1  HAM_0000118  ISIC_0025030  bkl   histo  80.0  male        scalp   \n",
       "2  HAM_0002730  ISIC_0026769  bkl   histo  80.0  male        scalp   \n",
       "3  HAM_0002730  ISIC_0025661  bkl   histo  80.0  male        scalp   \n",
       "4  HAM_0001466  ISIC_0031633  bkl   histo  75.0  male          ear   \n",
       "\n",
       "                                                path  \n",
       "0  C:\\Users\\chava\\Desktop\\MLRobotics\\PROJECT1\\inp...  \n",
       "1  C:\\Users\\chava\\Desktop\\MLRobotics\\PROJECT1\\inp...  \n",
       "2  C:\\Users\\chava\\Desktop\\MLRobotics\\PROJECT1\\inp...  \n",
       "3  C:\\Users\\chava\\Desktop\\MLRobotics\\PROJECT1\\inp...  \n",
       "4  C:\\Users\\chava\\Desktop\\MLRobotics\\PROJECT1\\inp...  "
      ]
     },
     "execution_count": 36,
     "metadata": {},
     "output_type": "execute_result"
    }
   ],
   "source": [
    "data = impute_null_values(data, AGE, mean=True)\n",
    "data.head(5)\n",
    "\n"
   ]
  },
  {
   "cell_type": "code",
   "execution_count": 37,
   "metadata": {},
   "outputs": [
    {
     "data": {
      "text/plain": [
       "lesion_id       0\n",
       "image_id        0\n",
       "dx              0\n",
       "dx_type         0\n",
       "age             0\n",
       "sex             0\n",
       "localization    0\n",
       "path            0\n",
       "dtype: int64"
      ]
     },
     "execution_count": 37,
     "metadata": {},
     "output_type": "execute_result"
    }
   ],
   "source": [
    "data.isnull().sum()\n"
   ]
  },
  {
   "cell_type": "code",
   "execution_count": 38,
   "metadata": {},
   "outputs": [
    {
     "name": "stdout",
     "output_type": "stream",
     "text": [
      "<class 'pandas.core.frame.DataFrame'>\n",
      "Index: 10015 entries, 0 to 10014\n",
      "Data columns (total 8 columns):\n",
      " #   Column        Non-Null Count  Dtype   \n",
      "---  ------        --------------  -----   \n",
      " 0   lesion_id     10015 non-null  object  \n",
      " 1   image_id      10015 non-null  object  \n",
      " 2   dx            10015 non-null  category\n",
      " 3   dx_type       10015 non-null  object  \n",
      " 4   age           10015 non-null  float64 \n",
      " 5   sex           10015 non-null  object  \n",
      " 6   localization  10015 non-null  object  \n",
      " 7   path          10015 non-null  object  \n",
      "dtypes: category(1), float64(1), object(6)\n",
      "memory usage: 636.1+ KB\n"
     ]
    }
   ],
   "source": [
    "## dx is a column with labels for categories, converting it to category will allow for efficient processing in classification tasks.\n",
    "data.dx = data.dx.astype('category')\n",
    "data.info()"
   ]
  },
  {
   "cell_type": "markdown",
   "metadata": {},
   "source": [
    "## Getting Data Ready for the model"
   ]
  },
  {
   "cell_type": "markdown",
   "metadata": {
    "jp-MarkdownHeadingCollapsed": true
   },
   "source": [
    "### Splitting Data"
   ]
  },
  {
   "cell_type": "code",
   "execution_count": 39,
   "metadata": {},
   "outputs": [
    {
     "data": {
      "text/plain": [
       "{0: 'akiec', 1: 'bcc', 2: 'bkl', 3: 'df', 4: 'mel', 5: 'nv', 6: 'vasc'}"
      ]
     },
     "execution_count": 39,
     "metadata": {},
     "output_type": "execute_result"
    }
   ],
   "source": [
    " d = dict(enumerate(data.dx.cat.categories))\n",
    "d"
   ]
  },
  {
   "cell_type": "code",
   "execution_count": 40,
   "metadata": {},
   "outputs": [
    {
     "data": {
      "text/plain": [
       "array([2, 2, 2, ..., 0, 0, 4], dtype=int8)"
      ]
     },
     "execution_count": 40,
     "metadata": {},
     "output_type": "execute_result"
    }
   ],
   "source": [
    "numeric_targets = data.dx.cat.codes.values\n",
    "numeric_targets"
   ]
  },
  {
   "cell_type": "code",
   "execution_count": 41,
   "metadata": {},
   "outputs": [
    {
     "data": {
      "text/plain": [
       "[3, 5, 11, 1, 11, 67, 1]"
      ]
     },
     "execution_count": 41,
     "metadata": {},
     "output_type": "execute_result"
    }
   ],
   "source": [
    "number_images = data.shape[0]\n",
    "images_by_class = [int(round(((data.loc[data.dx == DICT_TARGETS[i], 'dx'].count()) / number_images)*10015))\n",
    "                                   for i in range(len(data.dx.unique()))]\n",
    "images_by_class"
   ]
  },
  {
   "cell_type": "code",
   "execution_count": 42,
   "metadata": {},
   "outputs": [
    {
     "data": {
      "text/plain": [
       "['akiec', 'bcc', 'bkl', 'df', 'mel', 'nv', 'vasc']"
      ]
     },
     "execution_count": 42,
     "metadata": {},
     "output_type": "execute_result"
    }
   ],
   "source": [
    "counter_by_class = [DICT_TARGETS[i] for i in range(len(data.dx.unique()))]\n",
    "counter_by_class"
   ]
  },
  {
   "cell_type": "code",
   "execution_count": 43,
   "metadata": {},
   "outputs": [],
   "source": [
    "def getDataFromImages(data, size):\n",
    "    \"\"\"\n",
    "    This function retrieves X and Y data from all images.\n",
    "    :param data: Pandas data with image paths and corresponding targets.\n",
    "    :param size: int - Desired sample size, should be <= total images.\n",
    "                 If size < total images, the function performs stratified sampling.\n",
    "    :return: X: numpy array - Image data (pixels).\n",
    "    :return: Y: numpy array - Targets for each image.\n",
    "    \"\"\"\n",
    "    \n",
    "    # Get total images count\n",
    "    number_images = data.shape[0]\n",
    "    X = []\n",
    "    Y = []\n",
    "\n",
    "    # Dictionary for mapping categories to numeric targets\n",
    "    d = dict(enumerate(data.dx.cat.categories))\n",
    "    numeric_targets = data.dx.cat.codes.values\n",
    "\n",
    "    # Check if requested size exceeds the available number of images\n",
    "    if size > number_images:\n",
    "        raise ValueError(\"Requested size exceeds available images.\")\n",
    "\n",
    "    # Stratified sampling if size is less than the total number of images\n",
    "    elif size < number_images:\n",
    "        images_by_class = [int(round((data[data.dx == target].shape[0] / number_images) * size))\n",
    "                           for target in data.dx.unique()]\n",
    "        \n",
    "        counter_by_class = [target for target in data.dx.unique()]\n",
    "        for i in range(number_images):\n",
    "            target = data.at[i, 'dx']  # Get target of the image\n",
    "            index_target_counter = counter_by_class.index(target)\n",
    "            \n",
    "            # Check if allowed image count for this class is not zero\n",
    "            if images_by_class[index_target_counter] > 0:\n",
    "                X.append(getX_Y_Image(data.at[i, 'path']))\n",
    "                Y.append(numeric_targets[i])\n",
    "                images_by_class[index_target_counter] -= 1\n",
    "            \n",
    "            # Stop if all classes have reached their stratified sample size\n",
    "            if all(count == 0 for count in images_by_class):\n",
    "                break\n",
    "\n",
    "        return np.array(X), np.array(Y)\n",
    "\n",
    "    # If size equals the total number of images, return all images\n",
    "    else:\n",
    "        for i in range(number_images):\n",
    "            X.append(getX_Y_Image(data.at[i, 'path']))\n",
    "            Y.append(numeric_targets[i])\n",
    "\n",
    "        return np.array(X), np.array(Y)\n"
   ]
  },
  {
   "cell_type": "code",
   "execution_count": 44,
   "metadata": {},
   "outputs": [],
   "source": [
    "def getX_Y_Image(image_path: str):\n",
    "    '''\n",
    "    THIS FUNCTION IS USED TO RETRIEVE X (pixel RGB VALUES) of an image\n",
    "    :param image_path: str --> image path of image\n",
    "    :return: X: numpy array --> RGB VALUES OF IMAGE\n",
    "    '''\n",
    "\n",
    "    image = cv2.imread(image_path)\n",
    "    X = cv2.resize(image, (HEIGHT, WIDTH), interpolation=cv2.INTER_CUBIC)\n",
    "\n",
    "    return X\n"
   ]
  },
  {
   "cell_type": "code",
   "execution_count": 45,
   "metadata": {},
   "outputs": [
    {
     "name": "stdout",
     "output_type": "stream",
     "text": [
      "(10015, 128, 128, 3)\n",
      "(10015,)\n"
     ]
    }
   ],
   "source": [
    "import cv2\n",
    "X, Y = getDataFromImages(data=data, size=10015)\n",
    "print(X.shape)\n",
    "print(Y.shape)"
   ]
  },
  {
   "cell_type": "code",
   "execution_count": 46,
   "metadata": {},
   "outputs": [],
   "source": [
    "indexes = np.arange(X.shape[0])\n",
    "X_train, X_val, y_train, y_val, indeces_train, indices_val = train_test_split(X, Y, indexes, test_size=VALIDATION_SPLIT, shuffle=True,\n",
    "                                                      random_state=RANDOM_STATE, stratify=Y)\n",
    "indexes = indeces_train\n",
    "X_train, X_test, y_train, y_test, indices_train, indices_test = train_test_split(X_train, y_train, indexes, test_size=TEST_SPLIT,\n",
    "                                                        shuffle=True, random_state=RANDOM_STATE, stratify=y_train)\n"
   ]
  },
  {
   "cell_type": "code",
   "execution_count": 47,
   "metadata": {},
   "outputs": [
    {
     "name": "stdout",
     "output_type": "stream",
     "text": [
      "(6509, 128, 128, 3)\n",
      "(6509,)\n",
      "(1503, 128, 128, 3)\n",
      "(1503,)\n",
      "(2003, 128, 128, 3)\n",
      "(2003,)\n"
     ]
    }
   ],
   "source": [
    "print(X_train.shape)\n",
    "print(y_train.shape)\n",
    "print(X_val.shape)\n",
    "print(y_val.shape)\n",
    "print(X_test.shape)\n",
    "print(y_test.shape)"
   ]
  },
  {
   "cell_type": "markdown",
   "metadata": {
    "jp-MarkdownHeadingCollapsed": true
   },
   "source": [
    "### Normalizing the Data"
   ]
  },
  {
   "cell_type": "code",
   "execution_count": 48,
   "metadata": {},
   "outputs": [],
   "source": [
    "def normalize(X_train, X_val, X_test):\n",
    "    '''\n",
    "    #REF https://forums.fast.ai/t/images-normalization/4058/8\n",
    "    :param X_train: numpy array representing training data\n",
    "    :param X_val: numpy array representing validation data\n",
    "    :param X_test: numpy array representing test data\n",
    "    :return X_train: numpy array normalized\n",
    "    :return X_val: numpy array normalized\n",
    "    :return X_test: numpy array normalized\n",
    "    '''\n",
    "\n",
    "    # Calculate the mean and standard deviation for normalization\n",
    "    mean = np.mean(X_train, axis=STANDARDIZE_AXIS_CHANNELS)  # STANDARDIZE BY CHANNELS\n",
    "    std = np.std(X_train, axis=STANDARDIZE_AXIS_CHANNELS)    # STANDARDIZE BY CHANNELS\n",
    "    print(mean)\n",
    "    print(std)\n",
    "\n",
    "    # Normalize the datasets using the calculated mean and std\n",
    "    X_train = (X_train - mean) / (std + 1e-7)\n",
    "    X_val = (X_val - mean) / (std + 1e-7)\n",
    "    X_test = (X_test - mean) / (std + 1e-7)\n",
    "\n",
    "    # Transform float64 numpy arrays to float32 to reduce memory usage\n",
    "    X_train = X_train.astype(np.float32)\n",
    "    X_val = X_val.astype(np.float32)\n",
    "    X_test = X_test.astype(np.float32)\n",
    "\n",
    "\n",
    "    return X_train, X_val, X_test\n"
   ]
  },
  {
   "cell_type": "code",
   "execution_count": 49,
   "metadata": {},
   "outputs": [
    {
     "name": "stdout",
     "output_type": "stream",
     "text": [
      "[145.53616869 139.42013422 194.75952985]\n",
      "[43.48181032 39.03734679 36.18688406]\n"
     ]
    }
   ],
   "source": [
    "X_train, X_val, X_test = normalize(X_train, X_val, X_test)"
   ]
  },
  {
   "cell_type": "code",
   "execution_count": 50,
   "metadata": {},
   "outputs": [],
   "source": [
    "def one_hot_encoding(y_train, y_val, y_test):\n",
    "    '''\n",
    "    :param y_train: numpy array with training targets\n",
    "    :param y_val: numpy array with validation targets\n",
    "    :param y_test: numpy array with test targets\n",
    "    :return y_train: numpy array categorized [1 0] --> class 0 or [0 1] --> class 1\n",
    "    :return y_val: numpy array categorized\n",
    "    :return y_test: numpy array categorized\n",
    "    '''\n",
    "    y_train = keras.utils.to_categorical(y_train, NUMBER_CLASSES)\n",
    "    y_val = keras.utils.to_categorical(y_val, NUMBER_CLASSES)\n",
    "    y_test = keras.utils.to_categorical(y_test, NUMBER_CLASSES)\n",
    "    return y_train, y_val, y_test\n"
   ]
  },
  {
   "cell_type": "code",
   "execution_count": 51,
   "metadata": {},
   "outputs": [],
   "source": [
    "y_train, y_val, y_test = one_hot_encoding(y_train, y_val, y_test)"
   ]
  },
  {
   "cell_type": "code",
   "execution_count": 52,
   "metadata": {},
   "outputs": [
    {
     "data": {
      "text/plain": [
       "array([0., 0., 0., 0., 0., 1., 0.])"
      ]
     },
     "execution_count": 52,
     "metadata": {},
     "output_type": "execute_result"
    }
   ],
   "source": [
    "y_train[0]"
   ]
  },
  {
   "cell_type": "code",
   "execution_count": 53,
   "metadata": {},
   "outputs": [
    {
     "data": {
      "text/plain": [
       "array([0., 1., 0., 0., 0., 0., 0.])"
      ]
     },
     "execution_count": 53,
     "metadata": {},
     "output_type": "execute_result"
    }
   ],
   "source": [
    "y_test[0]"
   ]
  },
  {
   "cell_type": "markdown",
   "metadata": {},
   "source": [
    "### Strategies for sampling"
   ]
  },
  {
   "cell_type": "code",
   "execution_count": 54,
   "metadata": {},
   "outputs": [],
   "source": [
    "import numpy as np\n",
    "class Data:\n",
    "\n",
    "    def __init__(self, X_train, X_val, X_test, y_train, y_val, y_test):\n",
    "        self.X_train = X_train\n",
    "        self.X_val = X_val\n",
    "        self.X_test = X_test\n",
    "        self.y_train = y_train\n",
    "        self.y_val = y_val\n",
    "        self.y_test = y_test\n",
    "\n",
    "    def decodeYData(self):\n",
    "        '''\n",
    "        THIS FUNCTION IS USED TO DISABLE ONE-HOT-ENCODING\n",
    "        e.g --> y_train = [ [0 1] [1 0] ]\n",
    "                return [ [1] [0] ]\n",
    "        :return: numpy array: decoded training targets\n",
    "        '''\n",
    "        y_train = [np.argmax(self.y_train[i], axis=0) for i in range(self.y_train.shape[0])]\n",
    "        y_train = np.array(y_train)\n",
    "        return y_train\n",
    "\n",
    "    def reshape4D_to_2D(self):\n",
    "        '''\n",
    "        THIS FUNCTION IS USED TO RESHAPE TRAINING DATA FROM 4D TO 2D --> IS NEED TO APPLY STRATEGIES\n",
    "        :return: numpy array --> training data 2D (SAMPLES, FEATURES) --> FEATURES = (WIDTH * HEIGHT * CHANNELS)\n",
    "        '''\n",
    "        feature_reshape = (self.X_train.shape[1] * self.X_train.shape[2] * self.X_train.shape[3])\n",
    "        X_train = self.X_train.reshape(self.X_train.shape[0], feature_reshape)\n",
    "        return X_train\n",
    "\n",
    "    def reshape2D_to_4D(self):\n",
    "        '''\n",
    "        THIS FUNCTION IS USED TO RESHAPE TRAINING DATA FROM 2D TO 4D --> IS NEED TO APPLY STRATEGIES\n",
    "        :return: numpy array --> training data 4D  (SAMPLES, WIDTH, HEIGHT, CHANNELS)\n",
    "        '''\n",
    "        shape_data = (self.X_train.shape[0], WIDTH, HEIGHT, CHANNELS)\n",
    "        X_train = self.X_train.reshape(shape_data)\n",
    "        return X_train\n"
   ]
  },
  {
   "cell_type": "code",
   "execution_count": 60,
   "metadata": {},
   "outputs": [],
   "source": [
    "data_obj = Data(X_train=X_train, X_val=X_val, X_test=X_test,\n",
    "                         y_train=y_train, y_val=y_val, y_test=y_test)"
   ]
  },
  {
   "cell_type": "code",
   "execution_count": 56,
   "metadata": {},
   "outputs": [],
   "source": [
    "from abc import ABC, abstractmethod\n",
    "\n",
    "class Strategy(ABC):\n",
    "\n",
    "    @abstractmethod\n",
    "    def __init__(self):\n",
    "        pass\n",
    "\n",
    "    @abstractmethod\n",
    "    def applyStrategy(self, data : Data, **kwargs):\n",
    "        pass"
   ]
  },
  {
   "cell_type": "markdown",
   "metadata": {},
   "source": [
    "#### Undersampling\n"
   ]
  },
  {
   "cell_type": "code",
   "execution_count": 66,
   "metadata": {},
   "outputs": [],
   "source": [
    "from imblearn.under_sampling import RandomUnderSampler\n",
    "import numpy as np\n",
    "import keras\n",
    "from sklearn.utils import shuffle\n",
    "\n",
    "class UnderSampling(Strategy):\n",
    "\n",
    "    def __init__(self):\n",
    "        super(UnderSampling, self).__init__()\n",
    "\n",
    "    def applyStrategy(self, data: Data, **kwargs):\n",
    "        '''\n",
    "        This function applies undersampling technique on training data.\n",
    "        :param data: Data object containing training data and targets\n",
    "        :return: Undersampled training data and targets\n",
    "        '''\n",
    "        # Convert targets to 1D array by finding the index of the highest probability\n",
    "        numberValues = np.argmax(data.y_train, axis=1)\n",
    "        occorrences_counter = np.bincount(numberValues)\n",
    "        \n",
    "        # Initialize undersampler with a defined strategy\n",
    "        underSampler = RandomUnderSampler(random_state=0, sampling_strategy=class_sampling2)\n",
    "\n",
    "        # Reshape training data for undersampling\n",
    "        X_train = data.reshape4D_to_2D()\n",
    "        decoded_ytrain = data.decodeYData()\n",
    "\n",
    "        # Perform undersampling\n",
    "        deepData = Data(data.X_train, None, None, None, None, None)\n",
    "        deepData.X_train, decoded_ytrain = underSampler.fit_resample(X_train, decoded_ytrain)\n",
    "\n",
    "        # Reshape back to 4D and clean up\n",
    "        X_train = deepData.reshape2D_to_4D()\n",
    "        del deepData\n",
    "\n",
    "        # Convert back to categorical encoding\n",
    "        decoded_ytrain = keras.utils.to_categorical(decoded_ytrain, NUMBER_CLASSES)\n",
    "\n",
    "        # Shuffle data\n",
    "        X_train, decoded_ytrain = shuffle(X_train, decoded_ytrain)\n",
    "        \n",
    "        return X_train, decoded_ytrain"
   ]
  },
  {
   "cell_type": "markdown",
   "metadata": {
    "jp-MarkdownHeadingCollapsed": true
   },
   "source": [
    "#### OverSampling"
   ]
  },
  {
   "cell_type": "code",
   "execution_count": null,
   "metadata": {},
   "outputs": [],
   "source": [
    "class OverSampling(Strategy):\n",
    "\n",
    "    def __init__(self):\n",
    "        super(OverSampling, self).__init__()\n",
    "\n",
    "    def applyStrategy(self, data: Data, **kwargs):\n",
    "        '''\n",
    "        THIS FUNCTION APPLIES OVERSAMPLING TECHNIQUE ON TRAINING DATA\n",
    "        :param data: Data.Data object containing training data and targets\n",
    "        :return X_train: numpy array --> over sampled training data\n",
    "        :return y_train: numpy array --> over sampled training targets\n",
    "        '''\n",
    "\n",
    "        # Check if kwargs is empty\n",
    "        if not bool(kwargs) == False:  # CHECK IF DICT IS EMPTY\n",
    "            raise CustomError.ErrorCreationModel(.ERROR_NO_ARGS_ACCEPTED)\n",
    "\n",
    "        numberValues = [np.argmax(data.y_train, axis=1)]\n",
    "        numberValues = np.array(numberValues)\n",
    "        numberValues = numberValues.reshape(numberValues.shape[0] * numberValues.shape[1])\n",
    "        occorrences_counter = np.bincount(numberValues)\n",
    "\n",
    "        overSampler = RandomOverSampler(random_state=0, sampling_strategy=class_sampling)  # ALLOWS REPRODUCIBILITY\n",
    "\n",
    "        # I NEED TO RESHAPE TRAINING DATA TO 2D ARRAY (SAMPLES, FEATURES)\n",
    "        X_train = data.reshape4D_to_2D()\n",
    "\n",
    "        # APPLY DECODE OF TARGET DATA NEEDED TO APPLY RESAMPLE\n",
    "        decoded_ytrain = data.decodeYData()\n",
    "\n",
    "        # APPLY RESAMPLE OF DATA\n",
    "        args = (None, None, None, None, None)  # REDUCE MEMORY USAGE\n",
    "        deepData = Data.Data(data.X_train, *args)\n",
    "        deepData.X_train, decoded_ytrain = overSampler.fit_resample(X_train, decoded_ytrain)\n",
    "\n",
    "        # I NEED TO RESHAPE DATA AGAIN FROM 2D TO 4D\n",
    "        X_train = deepData.reshape2D_to_4D()\n",
    "        del deepData\n",
    "\n",
    "        occorrences_counter = np.bincount(decoded_ytrain)\n",
    "\n",
    "        # TRANSFORM Y_DECODED TO CATEGORICAL AGAIN\n",
    "        decoded_ytrain = keras.utils.to_categorical(decoded_ytrain, NUMBER_CLASSES)\n",
    "\n",
    "        # SHUFFLE DATA\n",
    "        X_train, decoded_ytrain = shuffle(X_train, decoded_ytrain)\n",
    "        print(X_train.shape)\n",
    "        return X_train, decoded_ytrain\n"
   ]
  },
  {
   "cell_type": "markdown",
   "metadata": {},
   "source": [
    "#### Data Augmentation"
   ]
  },
  {
   "cell_type": "code",
   "execution_count": 73,
   "metadata": {},
   "outputs": [],
   "source": [
    "from tensorflow.keras.preprocessing.image import ImageDataGenerator\n",
    "\n",
    "class DataAugmentation(Strategy):\n",
    "\n",
    "    def __init__(self):\n",
    "        super(DataAugmentation, self).__init__()\n",
    "\n",
    "    def applyStrategy(self, data: Data, **kwargs):\n",
    "\n",
    "        '''\n",
    "        THIS FUNCTION IS RESPONSIBLE TO FIT MODEL USING DATA AUGMENTATION\n",
    "        :param X_train: training data\n",
    "        :param y_train: training targets\n",
    "        :param kwargs:\n",
    "        :return: train_generator: tuple (augmented X, augmented Y)\n",
    "        '''\n",
    "\n",
    "        image_gen = ImageDataGenerator(\n",
    "            horizontal_flip= HORIZONTAL_FLIP,\n",
    "            vertical_flip= VERTICAL_FLIP,\n",
    "            width_shift_range= WIDTH_SHIFT_RANGE,\n",
    "            height_shift_range= HEIGHT_SHIFT_RANGE,\n",
    "            rotation_range= ROTATION_RANGE,\n",
    "            zoom_range= ZOOM_RANGE,\n",
    "        )\n",
    "\n",
    "        image_gen.fit(data.X_train, augment=True)  # DATA AUGMENTATION\n",
    "\n",
    "        train_generator = image_gen.flow(\n",
    "            data.X_train,\n",
    "            data.y_train,\n",
    "            shuffle=True,\n",
    "            batch_size= 32,\n",
    "        )\n",
    "\n",
    "        return train_generator\n"
   ]
  },
  {
   "cell_type": "code",
   "execution_count": 74,
   "metadata": {},
   "outputs": [],
   "source": [
    "undersampling = UnderSampling()\n",
    "oversampling = OverSampling()\n",
    "data_augment = DataAugmentation()"
   ]
  },
  {
   "cell_type": "code",
   "execution_count": null,
   "metadata": {},
   "outputs": [],
   "source": []
  }
 ],
 "metadata": {
  "kernelspec": {
   "display_name": "Python 3 (ipykernel)",
   "language": "python",
   "name": "python3"
  },
  "language_info": {
   "codemirror_mode": {
    "name": "ipython",
    "version": 3
   },
   "file_extension": ".py",
   "mimetype": "text/x-python",
   "name": "python",
   "nbconvert_exporter": "python",
   "pygments_lexer": "ipython3",
   "version": "3.12.4"
  },
  "pycharm": {
   "stem_cell": {
    "cell_type": "raw",
    "metadata": {
     "collapsed": false
    },
    "source": []
   }
  }
 },
 "nbformat": 4,
 "nbformat_minor": 4
}
